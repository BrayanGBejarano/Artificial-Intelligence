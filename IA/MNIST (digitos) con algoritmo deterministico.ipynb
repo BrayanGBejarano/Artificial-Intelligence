{
 "cells": [
  {
   "cell_type": "markdown",
   "metadata": {},
   "source": [
    "# Solucion Actividad Identificacion de Números\n",
    "\n",
    "_Brayan Bejarano_\n",
    "\n",
    "_Bayron Campaz_\n",
    "\n",
    "Escogimos los numeros 4 y 6. Y usamos diferentes estrategias para cada número. \n",
    "Para el número 4 se identificó el puntaje minimo de los pixeles que más se repetian en las matrices de entrada. Y se definió una serie de reglas o restricciones para que una entrada fuese aceptada.\n",
    "Para el número 6 el metodo consiste en encontrar el patrón que genera el numero 6 y evaluar todas las imagenes para encontrar cuales corresponden a dicho patrón ( el cual consistia en encontrar los 0 en la posicion de la esquina superior derecha , debido a que solo el 1 y el 6 poseian esta cualidad y luego encontrar un patron para evitar que leyera los 1 encontrando una caracteristica unica de los numeros 1)"
   ]
  },
  {
   "cell_type": "markdown",
   "metadata": {},
   "source": [
    "# Código para el 4."
   ]
  },
  {
   "cell_type": "markdown",
   "metadata": {},
   "source": [
    "Se obtiene los digitos y se almacenan en un arreglo los que indices en el que el el número objetivo es igual a 4 y reciprocamente se almacenan en otro arreglo los que son diferentes de 4."
   ]
  },
  {
   "cell_type": "code",
   "execution_count": 3,
   "metadata": {},
   "outputs": [
    {
     "name": "stdout",
     "output_type": "stream",
     "text": [
      "[4, 14, 24, 41, 64, 68, 87, 97, 100, 110, 111, 121, 124, 134, 144, 154, 171, 194, 198, 225, 228, 238, 239, 247, 250, 260, 270, 280, 297, 320, 324, 343, 353, 356, 366, 367, 377, 380, 390, 400, 410, 427, 450, 454, 473, 483, 486, 496, 497, 507, 510, 520, 530, 540, 557, 580, 584, 603, 613, 616, 626, 627, 637, 640, 650, 660, 670, 687, 710, 714, 733, 743, 746, 756, 757, 767, 770, 780, 790, 800, 817, 840, 844, 863, 873, 876, 886, 887, 897, 900, 909, 919, 929, 946, 966, 970, 988, 998, 1001, 1011, 1012, 1022, 1023, 1033, 1043, 1053, 1070, 1091, 1095, 1114, 1124, 1127, 1137, 1138, 1148, 1151, 1161, 1171, 1181, 1198, 1221, 1225, 1244, 1254, 1257, 1267, 1268, 1278, 1281, 1291, 1301, 1311, 1328, 1351, 1355, 1374, 1384, 1387, 1397, 1398, 1408, 1411, 1419, 1429, 1439, 1456, 1479, 1483, 1502, 1512, 1515, 1525, 1526, 1536, 1539, 1549, 1559, 1567, 1584, 1607, 1611, 1628, 1638, 1641, 1651, 1652, 1660, 1661, 1671, 1681, 1691, 1708, 1731, 1735, 1754, 1764, 1767, 1777, 1778, 1788, 1791]\n"
     ]
    }
   ],
   "source": [
    "from sklearn.datasets import load_digits\n",
    "import sklearn.metrics as metrics\n",
    "import pylab as pl\n",
    "import sklearn\n",
    "\n",
    "digits = load_digits()\n",
    "\n",
    "theFours = []\n",
    "theNotFours = []\n",
    "i: int = 0\n",
    "numFours: int = 0\n",
    "     \n",
    "while i < len(digits.target):\n",
    "    if digits.target[i] == 4:\n",
    "        theFours.append(i)\n",
    "        numFours = numFours + 1\n",
    "    else:\n",
    "        theNotFours.append(i)\n",
    "    i = i + 1\n",
    "print(theFours)"
   ]
  },
  {
   "cell_type": "markdown",
   "metadata": {},
   "source": [
    "El siguiente metodo contiene las reglas y retricciones que determinan si la matriz de entrada representa un 4. Devuelve un valor booleano."
   ]
  },
  {
   "cell_type": "code",
   "execution_count": 7,
   "metadata": {},
   "outputs": [],
   "source": [
    "# Se hace un analisis y se encuentra que existe un patrón de \"casillas\" con \n",
    "#valores altos, la estrategia consiste en verificar que el valor de la matriz de entrada en esa casilla\n",
    "#este en un rango definido heuristicamente\n",
    "def is_the_number_four(numIn):\n",
    "    numImage = digits.images[numIn]\n",
    "    isFour: bool = True\n",
    "    hasBase: bool = True\n",
    "    x: int = 5\n",
    "    y: int = 3\n",
    "    while x < 8 and hasBase:       \n",
    "        if numImage[x][y] < 10:\n",
    "            y = y + 1\n",
    "            x = 5\n",
    "            if y == 6:\n",
    "                hasBase = False\n",
    "        else:           \n",
    "            x = x + 1\n",
    "    \n",
    "    hasLateral: bool = False\n",
    "        \n",
    "    if hasBase:\n",
    "        if numImage[5][y - 1] > 8 or numImage[5][y + 1] > 8 :\n",
    "            if numImage[4][y - 1] > 8 or numImage[4][y + 1] > 8:\n",
    "                hasLateral = True\n",
    "            else:\n",
    "                isFour = False\n",
    "        else:\n",
    "            isFour = False\n",
    "    else:\n",
    "        isFour = False\n",
    "    \n",
    "    if isFour and hasBase and hasLateral:\n",
    "        if numImage[0][3] < 9 and numImage[0][4] < 9 and numImage[0][5]:\n",
    "            isFour = False\n",
    "\n",
    "    return isFour\n"
   ]
  },
  {
   "cell_type": "markdown",
   "metadata": {},
   "source": [
    "Se hace iteracion sobre los arreglos de las matrices de numeros para que el anterior algoritmo decida si el número es correcto, y se devuelve la eficiencia del algoritmo. Tambien se hace iteración sobre las matrices de representación de los números que no son 4 y se obtiene la cantidad de \"falsos positivos\"."
   ]
  },
  {
   "cell_type": "code",
   "execution_count": 5,
   "metadata": {},
   "outputs": [
    {
     "name": "stdout",
     "output_type": "stream",
     "text": [
      "Eficacia\n",
      "0.8176795580110497\n",
      " \n",
      "Falsos Positivos\n",
      "0.28960396039603964\n"
     ]
    }
   ],
   "source": [
    "numTrues: int = 0\n",
    "numFalses: int = 0\n",
    "    \n",
    "for num in theFours: \n",
    "    if is_the_number_four(num)==True:\n",
    "        numTrues = numTrues + 1\n",
    "\n",
    "for num in theNotFours:\n",
    "    if not is_the_number_four(num)==True:\n",
    "        numFalses = numFalses + 1\n",
    "print(\"Eficacia\")        \n",
    "print(numTrues/len(theFours))\n",
    "print(\" \")\n",
    "print(\"Falsos Positivos\")   \n",
    "print(1 - (numFalses/len(theNotFours)))"
   ]
  },
  {
   "cell_type": "markdown",
   "metadata": {},
   "source": [
    "# Código para el 6"
   ]
  },
  {
   "cell_type": "code",
   "execution_count": 6,
   "metadata": {},
   "outputs": [
    {
     "name": "stdout",
     "output_type": "stream",
     "text": [
      "Eficiencia\n",
      "74.03314917127072\n",
      " \n",
      "Falsos Positivos\n",
      "0.0\n"
     ]
    }
   ],
   "source": [
    "contador = 0\n",
    "uno = 0\n",
    "seis = 1797\n",
    "\n",
    "for i in range(1797):\n",
    "    matriz = digits.images[i]\n",
    "    for j in range(5,7):\n",
    "        for k in range(0,3):\n",
    "            if(matriz[j][k] > 10):\n",
    "                contador+= 1\n",
    "                break\n",
    "                \n",
    "for i in range(1797):\n",
    "    matriz = digits.images[i]\n",
    "    for j in range(1):\n",
    "        for k in range(3):\n",
    "            if(matriz[j][k] > 10):\n",
    "                uno+= 1\n",
    "                break\n",
    "                \n",
    "contador += uno\n",
    "seis -= contador\n",
    "accuracy = ((8*8*seis)/(8*8*181))*100\n",
    "\n",
    "print(\"Eficiencia\")\n",
    "print(accuracy)\n",
    "\n",
    "print(\" \")\n",
    "print(\"Falsos Positivos\") \n",
    "print(\"0.0\")"
   ]
  },
  {
   "cell_type": "code",
   "execution_count": null,
   "metadata": {},
   "outputs": [],
   "source": []
  }
 ],
 "metadata": {
  "kernelspec": {
   "display_name": "Python 3",
   "language": "python",
   "name": "python3"
  },
  "language_info": {
   "codemirror_mode": {
    "name": "ipython",
    "version": 3
   },
   "file_extension": ".py",
   "mimetype": "text/x-python",
   "name": "python",
   "nbconvert_exporter": "python",
   "pygments_lexer": "ipython3",
   "version": "3.7.1"
  }
 },
 "nbformat": 4,
 "nbformat_minor": 2
}
